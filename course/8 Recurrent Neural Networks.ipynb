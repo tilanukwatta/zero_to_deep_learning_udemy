{
 "cells": [
  {
   "cell_type": "markdown",
   "metadata": {},
   "source": [
    "# Recurrent Neural Networks"
   ]
  },
  {
   "cell_type": "code",
   "execution_count": 1,
   "metadata": {
    "collapsed": true
   },
   "outputs": [],
   "source": [
    "import pandas as pd\n",
    "import numpy as np\n",
    "%matplotlib inline\n",
    "import matplotlib.pyplot as plt"
   ]
  },
  {
   "cell_type": "markdown",
   "metadata": {},
   "source": [
    "## Time series forecasting"
   ]
  },
  {
   "cell_type": "code",
   "execution_count": 2,
   "metadata": {},
   "outputs": [
    {
     "data": {
      "text/html": [
       "<div>\n",
       "<table border=\"1\" class=\"dataframe\">\n",
       "  <thead>\n",
       "    <tr style=\"text-align: right;\">\n",
       "      <th></th>\n",
       "      <th>Adjustments</th>\n",
       "      <th>Unadjusted</th>\n",
       "      <th>Seasonally adjusted</th>\n",
       "    </tr>\n",
       "  </thead>\n",
       "  <tbody>\n",
       "    <tr>\n",
       "      <th>0</th>\n",
       "      <td>Jan-1991</td>\n",
       "      <td>12588862</td>\n",
       "      <td>15026890</td>\n",
       "    </tr>\n",
       "    <tr>\n",
       "      <th>1</th>\n",
       "      <td>Feb-1991</td>\n",
       "      <td>12154321</td>\n",
       "      <td>15304585</td>\n",
       "    </tr>\n",
       "    <tr>\n",
       "      <th>2</th>\n",
       "      <td>Mar-1991</td>\n",
       "      <td>14337072</td>\n",
       "      <td>15413591</td>\n",
       "    </tr>\n",
       "    <tr>\n",
       "      <th>3</th>\n",
       "      <td>Apr-1991</td>\n",
       "      <td>15108570</td>\n",
       "      <td>15293409</td>\n",
       "    </tr>\n",
       "    <tr>\n",
       "      <th>4</th>\n",
       "      <td>May-1991</td>\n",
       "      <td>17225734</td>\n",
       "      <td>15676083</td>\n",
       "    </tr>\n",
       "  </tbody>\n",
       "</table>\n",
       "</div>"
      ],
      "text/plain": [
       "  Adjustments  Unadjusted  Seasonally adjusted\n",
       "0    Jan-1991    12588862             15026890\n",
       "1    Feb-1991    12154321             15304585\n",
       "2    Mar-1991    14337072             15413591\n",
       "3    Apr-1991    15108570             15293409\n",
       "4    May-1991    17225734             15676083"
      ]
     },
     "execution_count": 2,
     "metadata": {},
     "output_type": "execute_result"
    }
   ],
   "source": [
    "df = pd.read_csv('../data/cansim-0800020-eng-6674700030567901031.csv',\n",
    "                 skiprows=6, skipfooter=9,\n",
    "                 engine='python')\n",
    "df.head()"
   ]
  },
  {
   "cell_type": "code",
   "execution_count": 3,
   "metadata": {
    "collapsed": true
   },
   "outputs": [],
   "source": [
    "from pandas.tseries.offsets import MonthEnd"
   ]
  },
  {
   "cell_type": "code",
   "execution_count": 4,
   "metadata": {},
   "outputs": [
    {
     "data": {
      "text/html": [
       "<div>\n",
       "<table border=\"1\" class=\"dataframe\">\n",
       "  <thead>\n",
       "    <tr style=\"text-align: right;\">\n",
       "      <th></th>\n",
       "      <th>Unadjusted</th>\n",
       "      <th>Seasonally adjusted</th>\n",
       "    </tr>\n",
       "    <tr>\n",
       "      <th>Adjustments</th>\n",
       "      <th></th>\n",
       "      <th></th>\n",
       "    </tr>\n",
       "  </thead>\n",
       "  <tbody>\n",
       "    <tr>\n",
       "      <th>1991-01-31</th>\n",
       "      <td>12588862</td>\n",
       "      <td>15026890</td>\n",
       "    </tr>\n",
       "    <tr>\n",
       "      <th>1991-02-28</th>\n",
       "      <td>12154321</td>\n",
       "      <td>15304585</td>\n",
       "    </tr>\n",
       "    <tr>\n",
       "      <th>1991-03-31</th>\n",
       "      <td>14337072</td>\n",
       "      <td>15413591</td>\n",
       "    </tr>\n",
       "    <tr>\n",
       "      <th>1991-04-30</th>\n",
       "      <td>15108570</td>\n",
       "      <td>15293409</td>\n",
       "    </tr>\n",
       "    <tr>\n",
       "      <th>1991-05-31</th>\n",
       "      <td>17225734</td>\n",
       "      <td>15676083</td>\n",
       "    </tr>\n",
       "  </tbody>\n",
       "</table>\n",
       "</div>"
      ],
      "text/plain": [
       "             Unadjusted  Seasonally adjusted\n",
       "Adjustments                                 \n",
       "1991-01-31     12588862             15026890\n",
       "1991-02-28     12154321             15304585\n",
       "1991-03-31     14337072             15413591\n",
       "1991-04-30     15108570             15293409\n",
       "1991-05-31     17225734             15676083"
      ]
     },
     "execution_count": 4,
     "metadata": {},
     "output_type": "execute_result"
    }
   ],
   "source": [
    "df['Adjustments'] = pd.to_datetime(df['Adjustments']) + MonthEnd(1)\n",
    "df = df.set_index('Adjustments')\n",
    "df.head()"
   ]
  },
  {
   "cell_type": "code",
   "execution_count": 5,
   "metadata": {},
   "outputs": [
    {
     "data": {
      "text/plain": [
       "<matplotlib.axes._subplots.AxesSubplot at 0x7f3716137828>"
      ]
     },
     "execution_count": 5,
     "metadata": {},
     "output_type": "execute_result"
    },
    {
     "data": {
      "image/png": "[encoded data removed]",
      "text/plain": [
       "<matplotlib.figure.Figure at 0x7f37163cccf8>"
      ]
     },
     "metadata": {},
     "output_type": "display_data"
    }
   ],
   "source": [
    "df.plot()"
   ]
  },
  {
   "cell_type": "code",
   "execution_count": 6,
   "metadata": {
    "collapsed": true
   },
   "outputs": [],
   "source": [
    "split_date = pd.Timestamp('01-01-2011')"
   ]
  },
  {
   "cell_type": "code",
   "execution_count": 7,
   "metadata": {
    "collapsed": true
   },
   "outputs": [],
   "source": [
    "train = df.loc[:split_date, ['Unadjusted']]\n",
    "test = df.loc[split_date:, ['Unadjusted']]"
   ]
  },
  {
   "cell_type": "code",
   "execution_count": 8,
   "metadata": {},
   "outputs": [
    {
     "data": {
      "text/plain": [
       "<matplotlib.legend.Legend at 0x7f3712c40518>"
      ]
     },
     "execution_count": 8,
     "metadata": {},
     "output_type": "execute_result"
    },
    {
     "data": {
      "image/png": "[encoded data removed]",
      "text/plain": [
       "<matplotlib.figure.Figure at 0x7f3712cfe6d8>"
      ]
     },
     "metadata": {},
     "output_type": "display_data"
    }
   ],
   "source": [
    "ax = train.plot()\n",
    "test.plot(ax=ax)\n",
    "plt.legend(['train', 'test'])"
   ]
  },
  {
   "cell_type": "code",
   "execution_count": 9,
   "metadata": {
    "collapsed": true
   },
   "outputs": [],
   "source": [
    "from sklearn.preprocessing import MinMaxScaler\n",
    "\n",
    "sc = MinMaxScaler()\n",
    "\n",
    "train_sc = sc.fit_transform(train)\n",
    "test_sc = sc.transform(test)"
   ]
  },
  {
   "cell_type": "code",
   "execution_count": 10,
   "metadata": {},
   "outputs": [
    {
     "data": {
      "text/plain": [
       "array([[ 0.01402033],\n",
       "       [ 0.        ],\n",
       "       [ 0.0704258 ],\n",
       "       [ 0.09531795]])"
      ]
     },
     "execution_count": 10,
     "metadata": {},
     "output_type": "execute_result"
    }
   ],
   "source": [
    "train_sc[:4]"
   ]
  },
  {
   "cell_type": "code",
   "execution_count": 11,
   "metadata": {
    "collapsed": true
   },
   "outputs": [],
   "source": [
    "X_train = train_sc[:-1]\n",
    "y_train = train_sc[1:]\n",
    "\n",
    "X_test = test_sc[:-1]\n",
    "y_test = test_sc[1:]"
   ]
  },
  {
   "cell_type": "markdown",
   "metadata": {},
   "source": [
    "### Fully connected predictor"
   ]
  },
  {
   "cell_type": "code",
   "execution_count": 12,
   "metadata": {},
   "outputs": [
    {
     "name": "stderr",
     "output_type": "stream",
     "text": [
      "Using TensorFlow backend.\n"
     ]
    }
   ],
   "source": [
    "from keras.models import Sequential\n",
    "from keras.layers import Dense\n",
    "import keras.backend as K\n",
    "from keras.callbacks import EarlyStopping"
   ]
  },
  {
   "cell_type": "code",
   "execution_count": 13,
   "metadata": {},
   "outputs": [
    {
     "name": "stdout",
     "output_type": "stream",
     "text": [
      "_________________________________________________________________\n",
      "Layer (type)                 Output Shape              Param #   \n",
      "=================================================================\n",
      "dense_1 (Dense)              (None, 12)                24        \n",
      "_________________________________________________________________\n",
      "dense_2 (Dense)              (None, 1)                 13        \n",
      "=================================================================\n",
      "Total params: 37\n",
      "Trainable params: 37\n",
      "Non-trainable params: 0\n",
      "_________________________________________________________________\n"
     ]
    }
   ],
   "source": [
    "K.clear_session()\n",
    "\n",
    "model = Sequential()\n",
    "model.add(Dense(12, input_dim=1, activation='relu'))\n",
    "model.add(Dense(1))\n",
    "model.compile(loss='mean_squared_error', optimizer='adam')\n",
    "model.summary()"
   ]
  },
  {
   "cell_type": "code",
   "execution_count": 14,
   "metadata": {
    "collapsed": true
   },
   "outputs": [],
   "source": [
    "early_stop = EarlyStopping(monitor='loss', patience=1, verbose=1)"
   ]
  },
  {
   "cell_type": "code",
   "execution_count": 15,
   "metadata": {},
   "outputs": [
    {
     "name": "stdout",
     "output_type": "stream",
     "text": [
      "Epoch 1/200\n",
      "239/239 [==============================] - 3s - loss: 0.0352     \n",
      "Epoch 2/200\n",
      "239/239 [==============================] - 0s - loss: 0.0132     \n",
      "Epoch 3/200\n",
      "239/239 [==============================] - 0s - loss: 0.0121     \n",
      "Epoch 4/200\n",
      "239/239 [==============================] - 0s - loss: 0.0113     \n",
      "Epoch 5/200\n",
      "239/239 [==============================] - 0s - loss: 0.0109     \n",
      "Epoch 6/200\n",
      "239/239 [==============================] - 0s - loss: 0.0104     \n",
      "Epoch 7/200\n",
      "239/239 [==============================] - 0s - loss: 0.0102     \n",
      "Epoch 8/200\n",
      "239/239 [==============================] - 0s - loss: 0.0101     \n",
      "Epoch 9/200\n",
      "239/239 [==============================] - 0s - loss: 0.0101     \n",
      "Epoch 10/200\n",
      "239/239 [==============================] - 0s - loss: 0.0101     \n",
      "Epoch 11/200\n",
      "239/239 [==============================] - 0s - loss: 0.0100     \n",
      "Epoch 12/200\n",
      "239/239 [==============================] - 0s - loss: 0.0101     \n",
      "Epoch 13/200\n",
      "239/239 [==============================] - 0s - loss: 0.0100     \n",
      "Epoch 14/200\n",
      "239/239 [==============================] - 0s - loss: 0.0102     \n",
      "Epoch 15/200\n",
      "239/239 [==============================] - 0s - loss: 0.0100     \n",
      "Epoch 00014: early stopping\n"
     ]
    },
    {
     "data": {
      "text/plain": [
       "<keras.callbacks.History at 0x7f3700853a58>"
      ]
     },
     "execution_count": 15,
     "metadata": {},
     "output_type": "execute_result"
    }
   ],
   "source": [
    "model.fit(X_train, y_train, epochs=200,\n",
    "          batch_size=2, verbose=1,\n",
    "          callbacks=[early_stop])"
   ]
  },
  {
   "cell_type": "code",
   "execution_count": 16,
   "metadata": {
    "collapsed": true
   },
   "outputs": [],
   "source": [
    "y_pred = model.predict(X_test)"
   ]
  },
  {
   "cell_type": "code",
   "execution_count": 17,
   "metadata": {},
   "outputs": [
    {
     "data": {
      "text/plain": [
       "[<matplotlib.lines.Line2D at 0x7f3700847f28>]"
      ]
     },
     "execution_count": 17,
     "metadata": {},
     "output_type": "execute_result"
    },
    {
     "data": {
      "image/png": "[encoded data removed]",
      "text/plain": [
       "<matplotlib.figure.Figure at 0x7f370a6f20b8>"
      ]
     },
     "metadata": {},
     "output_type": "display_data"
    }
   ],
   "source": [
    "plt.plot(y_test)\n",
    "plt.plot(y_pred)"
   ]
  },
  {
   "cell_type": "markdown",
   "metadata": {},
   "source": [
    "### Recurrent predictor"
   ]
  },
  {
   "cell_type": "code",
   "execution_count": 18,
   "metadata": {
    "collapsed": true
   },
   "outputs": [],
   "source": [
    "from keras.layers import LSTM"
   ]
  },
  {
   "cell_type": "code",
   "execution_count": 19,
   "metadata": {},
   "outputs": [
    {
     "data": {
      "text/plain": [
       "(239, 1)"
      ]
     },
     "execution_count": 19,
     "metadata": {},
     "output_type": "execute_result"
    }
   ],
   "source": [
    "X_train.shape"
   ]
  },
  {
   "cell_type": "code",
   "execution_count": 20,
   "metadata": {},
   "outputs": [
    {
     "data": {
      "text/plain": [
       "(239, 1, 1)"
      ]
     },
     "execution_count": 20,
     "metadata": {},
     "output_type": "execute_result"
    }
   ],
   "source": [
    "#3D tensor with shape (batch_size, timesteps, input_dim)\n",
    "X_train[:, None].shape"
   ]
  },
  {
   "cell_type": "code",
   "execution_count": 21,
   "metadata": {
    "collapsed": true
   },
   "outputs": [],
   "source": [
    "X_train_t = X_train[:, None]\n",
    "X_test_t = X_test[:, None]"
   ]
  },
  {
   "cell_type": "code",
   "execution_count": 37,
   "metadata": {
    "collapsed": true
   },
   "outputs": [],
   "source": [
    "K.clear_session()\n",
    "model = Sequential()\n",
    "\n",
    "model.add(LSTM(6, input_shape=(1, 1)))\n",
    "\n",
    "model.add(Dense(1))\n",
    "\n",
    "model.compile(loss='mean_squared_error', optimizer='adam')"
   ]
  },
  {
   "cell_type": "code",
   "execution_count": 38,
   "metadata": {},
   "outputs": [
    {
     "name": "stdout",
     "output_type": "stream",
     "text": [
      "Epoch 1/100\n",
      "239/239 [==============================] - 1s - loss: 0.1045     \n",
      "Epoch 2/100\n",
      "239/239 [==============================] - 0s - loss: 0.0338     \n",
      "Epoch 3/100\n",
      "239/239 [==============================] - 1s - loss: 0.0260     \n",
      "Epoch 4/100\n",
      "239/239 [==============================] - 0s - loss: 0.0205     \n",
      "Epoch 5/100\n",
      "239/239 [==============================] - 0s - loss: 0.0160     \n",
      "Epoch 6/100\n",
      "239/239 [==============================] - 1s - loss: 0.0131     \n",
      "Epoch 7/100\n",
      "239/239 [==============================] - 1s - loss: 0.0114     \n",
      "Epoch 8/100\n",
      "239/239 [==============================] - 1s - loss: 0.0106     \n",
      "Epoch 9/100\n",
      "239/239 [==============================] - 1s - loss: 0.0102     \n",
      "Epoch 10/100\n",
      "239/239 [==============================] - 1s - loss: 0.0103     \n",
      "Epoch 11/100\n",
      "239/239 [==============================] - 0s - loss: 0.0101     \n",
      "Epoch 12/100\n",
      "239/239 [==============================] - 0s - loss: 0.0102     \n",
      "Epoch 13/100\n",
      "239/239 [==============================] - 0s - loss: 0.0101     \n",
      "Epoch 14/100\n",
      "239/239 [==============================] - 0s - loss: 0.0100     \n",
      "Epoch 15/100\n",
      "239/239 [==============================] - 0s - loss: 0.0100     \n",
      "Epoch 16/100\n",
      "239/239 [==============================] - 1s - loss: 0.0101     \n",
      "Epoch 00015: early stopping\n"
     ]
    },
    {
     "data": {
      "text/plain": [
       "<keras.callbacks.History at 0x7f3696566b38>"
      ]
     },
     "execution_count": 38,
     "metadata": {},
     "output_type": "execute_result"
    }
   ],
   "source": [
    "model.fit(X_train_t, y_train,\n",
    "          epochs=100, batch_size=1, verbose=1,\n",
    "          callbacks=[early_stop])"
   ]
  },
  {
   "cell_type": "code",
   "execution_count": 39,
   "metadata": {},
   "outputs": [
    {
     "data": {
      "text/plain": [
       "[<matplotlib.lines.Line2D at 0x7f3696483278>]"
      ]
     },
     "execution_count": 39,
     "metadata": {},
     "output_type": "execute_result"
    },
    {
     "data": {
      "image/png": "[encoded data removed]",
      "text/plain": [
       "<matplotlib.figure.Figure at 0x7f36964830b8>"
      ]
     },
     "metadata": {},
     "output_type": "display_data"
    }
   ],
   "source": [
    "y_pred = model.predict(X_test_t)\n",
    "plt.plot(y_test)\n",
    "plt.plot(y_pred)"
   ]
  },
  {
   "cell_type": "markdown",
   "metadata": {},
   "source": [
    "## Windows"
   ]
  },
  {
   "cell_type": "code",
   "execution_count": 43,
   "metadata": {},
   "outputs": [
    {
     "data": {
      "text/plain": [
       "(240, 1)"
      ]
     },
     "execution_count": 43,
     "metadata": {},
     "output_type": "execute_result"
    }
   ],
   "source": [
    "train_sc.shape"
   ]
  },
  {
   "cell_type": "code",
   "execution_count": 44,
   "metadata": {},
   "outputs": [
    {
     "data": {
      "text/html": [
       "<div>\n",
       "<table border=\"1\" class=\"dataframe\">\n",
       "  <thead>\n",
       "    <tr style=\"text-align: right;\">\n",
       "      <th></th>\n",
       "      <th>Scaled</th>\n",
       "    </tr>\n",
       "    <tr>\n",
       "      <th>Adjustments</th>\n",
       "      <th></th>\n",
       "    </tr>\n",
       "  </thead>\n",
       "  <tbody>\n",
       "    <tr>\n",
       "      <th>1991-01-31</th>\n",
       "      <td>0.014020</td>\n",
       "    </tr>\n",
       "    <tr>\n",
       "      <th>1991-02-28</th>\n",
       "      <td>0.000000</td>\n",
       "    </tr>\n",
       "    <tr>\n",
       "      <th>1991-03-31</th>\n",
       "      <td>0.070426</td>\n",
       "    </tr>\n",
       "    <tr>\n",
       "      <th>1991-04-30</th>\n",
       "      <td>0.095318</td>\n",
       "    </tr>\n",
       "    <tr>\n",
       "      <th>1991-05-31</th>\n",
       "      <td>0.163628</td>\n",
       "    </tr>\n",
       "  </tbody>\n",
       "</table>\n",
       "</div>"
      ],
      "text/plain": [
       "               Scaled\n",
       "Adjustments          \n",
       "1991-01-31   0.014020\n",
       "1991-02-28   0.000000\n",
       "1991-03-31   0.070426\n",
       "1991-04-30   0.095318\n",
       "1991-05-31   0.163628"
      ]
     },
     "execution_count": 44,
     "metadata": {},
     "output_type": "execute_result"
    }
   ],
   "source": [
    "train_sc_df = pd.DataFrame(train_sc, columns=['Scaled'], index=train.index)\n",
    "test_sc_df = pd.DataFrame(test_sc, columns=['Scaled'], index=test.index)\n",
    "train_sc_df.head()"
   ]
  },
  {
   "cell_type": "code",
   "execution_count": 45,
   "metadata": {
    "collapsed": true
   },
   "outputs": [],
   "source": [
    "for s in range(1, 13):\n",
    "    train_sc_df['shift_{}'.format(s)] = train_sc_df['Scaled'].shift(s)\n",
    "    test_sc_df['shift_{}'.format(s)] = test_sc_df['Scaled'].shift(s)"
   ]
  },
  {
   "cell_type": "code",
   "execution_count": 46,
   "metadata": {},
   "outputs": [
    {
     "data": {
      "text/html": [
       "<div>\n",
       "<table border=\"1\" class=\"dataframe\">\n",
       "  <thead>\n",
       "    <tr style=\"text-align: right;\">\n",
       "      <th></th>\n",
       "      <th>Scaled</th>\n",
       "      <th>shift_1</th>\n",
       "      <th>shift_2</th>\n",
       "      <th>shift_3</th>\n",
       "      <th>shift_4</th>\n",
       "      <th>shift_5</th>\n",
       "      <th>shift_6</th>\n",
       "      <th>shift_7</th>\n",
       "      <th>shift_8</th>\n",
       "      <th>shift_9</th>\n",
       "      <th>shift_10</th>\n",
       "      <th>shift_11</th>\n",
       "      <th>shift_12</th>\n",
       "    </tr>\n",
       "    <tr>\n",
       "      <th>Adjustments</th>\n",
       "      <th></th>\n",
       "      <th></th>\n",
       "      <th></th>\n",
       "      <th></th>\n",
       "      <th></th>\n",
       "      <th></th>\n",
       "      <th></th>\n",
       "      <th></th>\n",
       "      <th></th>\n",
       "      <th></th>\n",
       "      <th></th>\n",
       "      <th></th>\n",
       "      <th></th>\n",
       "    </tr>\n",
       "  </thead>\n",
       "  <tbody>\n",
       "    <tr>\n",
       "      <th>1991-01-31</th>\n",
       "      <td>0.014020</td>\n",
       "      <td>NaN</td>\n",
       "      <td>NaN</td>\n",
       "      <td>NaN</td>\n",
       "      <td>NaN</td>\n",
       "      <td>NaN</td>\n",
       "      <td>NaN</td>\n",
       "      <td>NaN</td>\n",
       "      <td>NaN</td>\n",
       "      <td>NaN</td>\n",
       "      <td>NaN</td>\n",
       "      <td>NaN</td>\n",
       "      <td>NaN</td>\n",
       "    </tr>\n",
       "    <tr>\n",
       "      <th>1991-02-28</th>\n",
       "      <td>0.000000</td>\n",
       "      <td>0.014020</td>\n",
       "      <td>NaN</td>\n",
       "      <td>NaN</td>\n",
       "      <td>NaN</td>\n",
       "      <td>NaN</td>\n",
       "      <td>NaN</td>\n",
       "      <td>NaN</td>\n",
       "      <td>NaN</td>\n",
       "      <td>NaN</td>\n",
       "      <td>NaN</td>\n",
       "      <td>NaN</td>\n",
       "      <td>NaN</td>\n",
       "    </tr>\n",
       "    <tr>\n",
       "      <th>1991-03-31</th>\n",
       "      <td>0.070426</td>\n",
       "      <td>0.000000</td>\n",
       "      <td>0.014020</td>\n",
       "      <td>NaN</td>\n",
       "      <td>NaN</td>\n",
       "      <td>NaN</td>\n",
       "      <td>NaN</td>\n",
       "      <td>NaN</td>\n",
       "      <td>NaN</td>\n",
       "      <td>NaN</td>\n",
       "      <td>NaN</td>\n",
       "      <td>NaN</td>\n",
       "      <td>NaN</td>\n",
       "    </tr>\n",
       "    <tr>\n",
       "      <th>1991-04-30</th>\n",
       "      <td>0.095318</td>\n",
       "      <td>0.070426</td>\n",
       "      <td>0.000000</td>\n",
       "      <td>0.014020</td>\n",
       "      <td>NaN</td>\n",
       "      <td>NaN</td>\n",
       "      <td>NaN</td>\n",
       "      <td>NaN</td>\n",
       "      <td>NaN</td>\n",
       "      <td>NaN</td>\n",
       "      <td>NaN</td>\n",
       "      <td>NaN</td>\n",
       "      <td>NaN</td>\n",
       "    </tr>\n",
       "    <tr>\n",
       "      <th>1991-05-31</th>\n",
       "      <td>0.163628</td>\n",
       "      <td>0.095318</td>\n",
       "      <td>0.070426</td>\n",
       "      <td>0.000000</td>\n",
       "      <td>0.014020</td>\n",
       "      <td>NaN</td>\n",
       "      <td>NaN</td>\n",
       "      <td>NaN</td>\n",
       "      <td>NaN</td>\n",
       "      <td>NaN</td>\n",
       "      <td>NaN</td>\n",
       "      <td>NaN</td>\n",
       "      <td>NaN</td>\n",
       "    </tr>\n",
       "    <tr>\n",
       "      <th>1991-06-30</th>\n",
       "      <td>0.135141</td>\n",
       "      <td>0.163628</td>\n",
       "      <td>0.095318</td>\n",
       "      <td>0.070426</td>\n",
       "      <td>0.000000</td>\n",
       "      <td>0.014020</td>\n",
       "      <td>NaN</td>\n",
       "      <td>NaN</td>\n",
       "      <td>NaN</td>\n",
       "      <td>NaN</td>\n",
       "      <td>NaN</td>\n",
       "      <td>NaN</td>\n",
       "      <td>NaN</td>\n",
       "    </tr>\n",
       "    <tr>\n",
       "      <th>1991-07-31</th>\n",
       "      <td>0.123958</td>\n",
       "      <td>0.135141</td>\n",
       "      <td>0.163628</td>\n",
       "      <td>0.095318</td>\n",
       "      <td>0.070426</td>\n",
       "      <td>0.000000</td>\n",
       "      <td>0.014020</td>\n",
       "      <td>NaN</td>\n",
       "      <td>NaN</td>\n",
       "      <td>NaN</td>\n",
       "      <td>NaN</td>\n",
       "      <td>NaN</td>\n",
       "      <td>NaN</td>\n",
       "    </tr>\n",
       "    <tr>\n",
       "      <th>1991-08-31</th>\n",
       "      <td>0.126174</td>\n",
       "      <td>0.123958</td>\n",
       "      <td>0.135141</td>\n",
       "      <td>0.163628</td>\n",
       "      <td>0.095318</td>\n",
       "      <td>0.070426</td>\n",
       "      <td>0.000000</td>\n",
       "      <td>0.014020</td>\n",
       "      <td>NaN</td>\n",
       "      <td>NaN</td>\n",
       "      <td>NaN</td>\n",
       "      <td>NaN</td>\n",
       "      <td>NaN</td>\n",
       "    </tr>\n",
       "    <tr>\n",
       "      <th>1991-09-30</th>\n",
       "      <td>0.092309</td>\n",
       "      <td>0.126174</td>\n",
       "      <td>0.123958</td>\n",
       "      <td>0.135141</td>\n",
       "      <td>0.163628</td>\n",
       "      <td>0.095318</td>\n",
       "      <td>0.070426</td>\n",
       "      <td>0.000000</td>\n",
       "      <td>0.014020</td>\n",
       "      <td>NaN</td>\n",
       "      <td>NaN</td>\n",
       "      <td>NaN</td>\n",
       "      <td>NaN</td>\n",
       "    </tr>\n",
       "    <tr>\n",
       "      <th>1991-10-31</th>\n",
       "      <td>0.111395</td>\n",
       "      <td>0.092309</td>\n",
       "      <td>0.126174</td>\n",
       "      <td>0.123958</td>\n",
       "      <td>0.135141</td>\n",
       "      <td>0.163628</td>\n",
       "      <td>0.095318</td>\n",
       "      <td>0.070426</td>\n",
       "      <td>0.000000</td>\n",
       "      <td>0.014020</td>\n",
       "      <td>NaN</td>\n",
       "      <td>NaN</td>\n",
       "      <td>NaN</td>\n",
       "    </tr>\n",
       "    <tr>\n",
       "      <th>1991-11-30</th>\n",
       "      <td>0.131738</td>\n",
       "      <td>0.111395</td>\n",
       "      <td>0.092309</td>\n",
       "      <td>0.126174</td>\n",
       "      <td>0.123958</td>\n",
       "      <td>0.135141</td>\n",
       "      <td>0.163628</td>\n",
       "      <td>0.095318</td>\n",
       "      <td>0.070426</td>\n",
       "      <td>0.000000</td>\n",
       "      <td>0.014020</td>\n",
       "      <td>NaN</td>\n",
       "      <td>NaN</td>\n",
       "    </tr>\n",
       "    <tr>\n",
       "      <th>1991-12-31</th>\n",
       "      <td>0.200913</td>\n",
       "      <td>0.131738</td>\n",
       "      <td>0.111395</td>\n",
       "      <td>0.092309</td>\n",
       "      <td>0.126174</td>\n",
       "      <td>0.123958</td>\n",
       "      <td>0.135141</td>\n",
       "      <td>0.163628</td>\n",
       "      <td>0.095318</td>\n",
       "      <td>0.070426</td>\n",
       "      <td>0.000000</td>\n",
       "      <td>0.01402</td>\n",
       "      <td>NaN</td>\n",
       "    </tr>\n",
       "    <tr>\n",
       "      <th>1992-01-31</th>\n",
       "      <td>0.030027</td>\n",
       "      <td>0.200913</td>\n",
       "      <td>0.131738</td>\n",
       "      <td>0.111395</td>\n",
       "      <td>0.092309</td>\n",
       "      <td>0.126174</td>\n",
       "      <td>0.123958</td>\n",
       "      <td>0.135141</td>\n",
       "      <td>0.163628</td>\n",
       "      <td>0.095318</td>\n",
       "      <td>0.070426</td>\n",
       "      <td>0.00000</td>\n",
       "      <td>0.01402</td>\n",
       "    </tr>\n",
       "  </tbody>\n",
       "</table>\n",
       "</div>"
      ],
      "text/plain": [
       "               Scaled   shift_1   shift_2   shift_3   shift_4   shift_5  \\\n",
       "Adjustments                                                               \n",
       "1991-01-31   0.014020       NaN       NaN       NaN       NaN       NaN   \n",
       "1991-02-28   0.000000  0.014020       NaN       NaN       NaN       NaN   \n",
       "1991-03-31   0.070426  0.000000  0.014020       NaN       NaN       NaN   \n",
       "1991-04-30   0.095318  0.070426  0.000000  0.014020       NaN       NaN   \n",
       "1991-05-31   0.163628  0.095318  0.070426  0.000000  0.014020       NaN   \n",
       "1991-06-30   0.135141  0.163628  0.095318  0.070426  0.000000  0.014020   \n",
       "1991-07-31   0.123958  0.135141  0.163628  0.095318  0.070426  0.000000   \n",
       "1991-08-31   0.126174  0.123958  0.135141  0.163628  0.095318  0.070426   \n",
       "1991-09-30   0.092309  0.126174  0.123958  0.135141  0.163628  0.095318   \n",
       "1991-10-31   0.111395  0.092309  0.126174  0.123958  0.135141  0.163628   \n",
       "1991-11-30   0.131738  0.111395  0.092309  0.126174  0.123958  0.135141   \n",
       "1991-12-31   0.200913  0.131738  0.111395  0.092309  0.126174  0.123958   \n",
       "1992-01-31   0.030027  0.200913  0.131738  0.111395  0.092309  0.126174   \n",
       "\n",
       "              shift_6   shift_7   shift_8   shift_9  shift_10  shift_11  \\\n",
       "Adjustments                                                               \n",
       "1991-01-31        NaN       NaN       NaN       NaN       NaN       NaN   \n",
       "1991-02-28        NaN       NaN       NaN       NaN       NaN       NaN   \n",
       "1991-03-31        NaN       NaN       NaN       NaN       NaN       NaN   \n",
       "1991-04-30        NaN       NaN       NaN       NaN       NaN       NaN   \n",
       "1991-05-31        NaN       NaN       NaN       NaN       NaN       NaN   \n",
       "1991-06-30        NaN       NaN       NaN       NaN       NaN       NaN   \n",
       "1991-07-31   0.014020       NaN       NaN       NaN       NaN       NaN   \n",
       "1991-08-31   0.000000  0.014020       NaN       NaN       NaN       NaN   \n",
       "1991-09-30   0.070426  0.000000  0.014020       NaN       NaN       NaN   \n",
       "1991-10-31   0.095318  0.070426  0.000000  0.014020       NaN       NaN   \n",
       "1991-11-30   0.163628  0.095318  0.070426  0.000000  0.014020       NaN   \n",
       "1991-12-31   0.135141  0.163628  0.095318  0.070426  0.000000   0.01402   \n",
       "1992-01-31   0.123958  0.135141  0.163628  0.095318  0.070426   0.00000   \n",
       "\n",
       "             shift_12  \n",
       "Adjustments            \n",
       "1991-01-31        NaN  \n",
       "1991-02-28        NaN  \n",
       "1991-03-31        NaN  \n",
       "1991-04-30        NaN  \n",
       "1991-05-31        NaN  \n",
       "1991-06-30        NaN  \n",
       "1991-07-31        NaN  \n",
       "1991-08-31        NaN  \n",
       "1991-09-30        NaN  \n",
       "1991-10-31        NaN  \n",
       "1991-11-30        NaN  \n",
       "1991-12-31        NaN  \n",
       "1992-01-31    0.01402  "
      ]
     },
     "execution_count": 46,
     "metadata": {},
     "output_type": "execute_result"
    }
   ],
   "source": [
    "train_sc_df.head(13)"
   ]
  },
  {
   "cell_type": "code",
   "execution_count": 47,
   "metadata": {
    "collapsed": true
   },
   "outputs": [],
   "source": [
    "X_train = train_sc_df.dropna().drop('Scaled', axis=1)\n",
    "y_train = train_sc_df.dropna()[['Scaled']]\n",
    "\n",
    "X_test = test_sc_df.dropna().drop('Scaled', axis=1)\n",
    "y_test = test_sc_df.dropna()[['Scaled']]"
   ]
  },
  {
   "cell_type": "code",
   "execution_count": 48,
   "metadata": {},
   "outputs": [
    {
     "data": {
      "text/html": [
       "<div>\n",
       "<table border=\"1\" class=\"dataframe\">\n",
       "  <thead>\n",
       "    <tr style=\"text-align: right;\">\n",
       "      <th></th>\n",
       "      <th>shift_1</th>\n",
       "      <th>shift_2</th>\n",
       "      <th>shift_3</th>\n",
       "      <th>shift_4</th>\n",
       "      <th>shift_5</th>\n",
       "      <th>shift_6</th>\n",
       "      <th>shift_7</th>\n",
       "      <th>shift_8</th>\n",
       "      <th>shift_9</th>\n",
       "      <th>shift_10</th>\n",
       "      <th>shift_11</th>\n",
       "      <th>shift_12</th>\n",
       "    </tr>\n",
       "    <tr>\n",
       "      <th>Adjustments</th>\n",
       "      <th></th>\n",
       "      <th></th>\n",
       "      <th></th>\n",
       "      <th></th>\n",
       "      <th></th>\n",
       "      <th></th>\n",
       "      <th></th>\n",
       "      <th></th>\n",
       "      <th></th>\n",
       "      <th></th>\n",
       "      <th></th>\n",
       "      <th></th>\n",
       "    </tr>\n",
       "  </thead>\n",
       "  <tbody>\n",
       "    <tr>\n",
       "      <th>1992-01-31</th>\n",
       "      <td>0.200913</td>\n",
       "      <td>0.131738</td>\n",
       "      <td>0.111395</td>\n",
       "      <td>0.092309</td>\n",
       "      <td>0.126174</td>\n",
       "      <td>0.123958</td>\n",
       "      <td>0.135141</td>\n",
       "      <td>0.163628</td>\n",
       "      <td>0.095318</td>\n",
       "      <td>0.070426</td>\n",
       "      <td>0.000000</td>\n",
       "      <td>0.014020</td>\n",
       "    </tr>\n",
       "    <tr>\n",
       "      <th>1992-02-29</th>\n",
       "      <td>0.030027</td>\n",
       "      <td>0.200913</td>\n",
       "      <td>0.131738</td>\n",
       "      <td>0.111395</td>\n",
       "      <td>0.092309</td>\n",
       "      <td>0.126174</td>\n",
       "      <td>0.123958</td>\n",
       "      <td>0.135141</td>\n",
       "      <td>0.163628</td>\n",
       "      <td>0.095318</td>\n",
       "      <td>0.070426</td>\n",
       "      <td>0.000000</td>\n",
       "    </tr>\n",
       "    <tr>\n",
       "      <th>1992-03-31</th>\n",
       "      <td>0.019993</td>\n",
       "      <td>0.030027</td>\n",
       "      <td>0.200913</td>\n",
       "      <td>0.131738</td>\n",
       "      <td>0.111395</td>\n",
       "      <td>0.092309</td>\n",
       "      <td>0.126174</td>\n",
       "      <td>0.123958</td>\n",
       "      <td>0.135141</td>\n",
       "      <td>0.163628</td>\n",
       "      <td>0.095318</td>\n",
       "      <td>0.070426</td>\n",
       "    </tr>\n",
       "    <tr>\n",
       "      <th>1992-04-30</th>\n",
       "      <td>0.065964</td>\n",
       "      <td>0.019993</td>\n",
       "      <td>0.030027</td>\n",
       "      <td>0.200913</td>\n",
       "      <td>0.131738</td>\n",
       "      <td>0.111395</td>\n",
       "      <td>0.092309</td>\n",
       "      <td>0.126174</td>\n",
       "      <td>0.123958</td>\n",
       "      <td>0.135141</td>\n",
       "      <td>0.163628</td>\n",
       "      <td>0.095318</td>\n",
       "    </tr>\n",
       "    <tr>\n",
       "      <th>1992-05-31</th>\n",
       "      <td>0.109831</td>\n",
       "      <td>0.065964</td>\n",
       "      <td>0.019993</td>\n",
       "      <td>0.030027</td>\n",
       "      <td>0.200913</td>\n",
       "      <td>0.131738</td>\n",
       "      <td>0.111395</td>\n",
       "      <td>0.092309</td>\n",
       "      <td>0.126174</td>\n",
       "      <td>0.123958</td>\n",
       "      <td>0.135141</td>\n",
       "      <td>0.163628</td>\n",
       "    </tr>\n",
       "  </tbody>\n",
       "</table>\n",
       "</div>"
      ],
      "text/plain": [
       "              shift_1   shift_2   shift_3   shift_4   shift_5   shift_6  \\\n",
       "Adjustments                                                               \n",
       "1992-01-31   0.200913  0.131738  0.111395  0.092309  0.126174  0.123958   \n",
       "1992-02-29   0.030027  0.200913  0.131738  0.111395  0.092309  0.126174   \n",
       "1992-03-31   0.019993  0.030027  0.200913  0.131738  0.111395  0.092309   \n",
       "1992-04-30   0.065964  0.019993  0.030027  0.200913  0.131738  0.111395   \n",
       "1992-05-31   0.109831  0.065964  0.019993  0.030027  0.200913  0.131738   \n",
       "\n",
       "              shift_7   shift_8   shift_9  shift_10  shift_11  shift_12  \n",
       "Adjustments                                                              \n",
       "1992-01-31   0.135141  0.163628  0.095318  0.070426  0.000000  0.014020  \n",
       "1992-02-29   0.123958  0.135141  0.163628  0.095318  0.070426  0.000000  \n",
       "1992-03-31   0.126174  0.123958  0.135141  0.163628  0.095318  0.070426  \n",
       "1992-04-30   0.092309  0.126174  0.123958  0.135141  0.163628  0.095318  \n",
       "1992-05-31   0.111395  0.092309  0.126174  0.123958  0.135141  0.163628  "
      ]
     },
     "execution_count": 48,
     "metadata": {},
     "output_type": "execute_result"
    }
   ],
   "source": [
    "X_train.head()"
   ]
  },
  {
   "cell_type": "code",
   "execution_count": 49,
   "metadata": {},
   "outputs": [
    {
     "data": {
      "text/plain": [
       "(228, 12)"
      ]
     },
     "execution_count": 49,
     "metadata": {},
     "output_type": "execute_result"
    }
   ],
   "source": [
    "X_train.shape"
   ]
  },
  {
   "cell_type": "code",
   "execution_count": 50,
   "metadata": {
    "collapsed": true
   },
   "outputs": [],
   "source": [
    "X_train = X_train.values\n",
    "X_test= X_test.values\n",
    "\n",
    "y_train = y_train.values\n",
    "y_test = y_test.values"
   ]
  },
  {
   "cell_type": "markdown",
   "metadata": {},
   "source": [
    "### Fully Connected on Windows"
   ]
  },
  {
   "cell_type": "code",
   "execution_count": 51,
   "metadata": {},
   "outputs": [
    {
     "name": "stdout",
     "output_type": "stream",
     "text": [
      "_________________________________________________________________\n",
      "Layer (type)                 Output Shape              Param #   \n",
      "=================================================================\n",
      "dense_1 (Dense)              (None, 12)                156       \n",
      "_________________________________________________________________\n",
      "dense_2 (Dense)              (None, 1)                 13        \n",
      "=================================================================\n",
      "Total params: 169\n",
      "Trainable params: 169\n",
      "Non-trainable params: 0\n",
      "_________________________________________________________________\n"
     ]
    }
   ],
   "source": [
    "K.clear_session()\n",
    "\n",
    "model = Sequential()\n",
    "model.add(Dense(12, input_dim=12, activation='relu'))\n",
    "model.add(Dense(1))\n",
    "model.compile(loss='mean_squared_error', optimizer='adam')\n",
    "model.summary()"
   ]
  },
  {
   "cell_type": "code",
   "execution_count": 52,
   "metadata": {},
   "outputs": [
    {
     "name": "stdout",
     "output_type": "stream",
     "text": [
      "Epoch 1/200\n",
      "228/228 [==============================] - 0s - loss: 0.1579     \n",
      "Epoch 2/200\n",
      "228/228 [==============================] - 1s - loss: 0.0132     \n",
      "Epoch 3/200\n",
      "228/228 [==============================] - 1s - loss: 0.0108     \n",
      "Epoch 4/200\n",
      "228/228 [==============================] - 1s - loss: 0.0088     \n",
      "Epoch 5/200\n",
      "228/228 [==============================] - 1s - loss: 0.0080     \n",
      "Epoch 6/200\n",
      "228/228 [==============================] - 1s - loss: 0.0070     \n",
      "Epoch 7/200\n",
      "228/228 [==============================] - 1s - loss: 0.0065     \n",
      "Epoch 8/200\n",
      "228/228 [==============================] - 0s - loss: 0.0060     \n",
      "Epoch 9/200\n",
      "228/228 [==============================] - 1s - loss: 0.0050     \n",
      "Epoch 10/200\n",
      "228/228 [==============================] - 1s - loss: 0.0046     \n",
      "Epoch 11/200\n",
      "228/228 [==============================] - 0s - loss: 0.0039     \n",
      "Epoch 12/200\n",
      "228/228 [==============================] - 1s - loss: 0.0036     \n",
      "Epoch 13/200\n",
      "228/228 [==============================] - 0s - loss: 0.0033     \n",
      "Epoch 14/200\n",
      "228/228 [==============================] - 1s - loss: 0.0028     - ETA:\n",
      "Epoch 15/200\n",
      "228/228 [==============================] - 1s - loss: 0.0025     \n",
      "Epoch 16/200\n",
      "228/228 [==============================] - 1s - loss: 0.0024         A: 1s -\n",
      "Epoch 17/200\n",
      "228/228 [==============================] - 1s - loss: 0.0022     \n",
      "Epoch 18/200\n",
      "228/228 [==============================] - 1s - loss: 0.0020     \n",
      "Epoch 19/200\n",
      "228/228 [==============================] - 0s - loss: 0.0018     \n",
      "Epoch 20/200\n",
      "228/228 [==============================] - 0s - loss: 0.0017     \n",
      "Epoch 21/200\n",
      "228/228 [==============================] - 1s - loss: 0.0016     - ETA: 0s - loss:\n",
      "Epoch 22/200\n",
      "228/228 [==============================] - 1s - loss: 0.0015     \n",
      "Epoch 23/200\n",
      "228/228 [==============================] - 1s - loss: 0.0015     \n",
      "Epoch 24/200\n",
      "228/228 [==============================] - 1s - loss: 0.0014     \n",
      "Epoch 25/200\n",
      "228/228 [==============================] - 1s - loss: 0.0013     \n",
      "Epoch 26/200\n",
      "228/228 [==============================] - 1s - loss: 0.0012     \n",
      "Epoch 27/200\n",
      "228/228 [==============================] - 1s - loss: 0.0013     \n",
      "Epoch 28/200\n",
      "228/228 [==============================] - 1s - loss: 0.0012     \n",
      "Epoch 00027: early stopping\n"
     ]
    },
    {
     "data": {
      "text/plain": [
       "<keras.callbacks.History at 0x7f36962fca90>"
      ]
     },
     "execution_count": 52,
     "metadata": {},
     "output_type": "execute_result"
    }
   ],
   "source": [
    "model.fit(X_train, y_train, epochs=200,\n",
    "          batch_size=1, verbose=1, callbacks=[early_stop])"
   ]
  },
  {
   "cell_type": "code",
   "execution_count": 53,
   "metadata": {},
   "outputs": [
    {
     "data": {
      "text/plain": [
       "[<matplotlib.lines.Line2D at 0x7f3696251a90>]"
      ]
     },
     "execution_count": 53,
     "metadata": {},
     "output_type": "execute_result"
    },
    {
     "data": {
      "image/png": "[encoded data removed]",
      "text/plain": [
       "<matplotlib.figure.Figure at 0x7f36964258d0>"
      ]
     },
     "metadata": {},
     "output_type": "display_data"
    }
   ],
   "source": [
    "y_pred = model.predict(X_test)\n",
    "plt.plot(y_test)\n",
    "plt.plot(y_pred)"
   ]
  },
  {
   "cell_type": "markdown",
   "metadata": {},
   "source": [
    "### LSTM on Windows"
   ]
  },
  {
   "cell_type": "code",
   "execution_count": 54,
   "metadata": {
    "collapsed": true
   },
   "outputs": [],
   "source": [
    "X_train_t = X_train.reshape(X_train.shape[0], 1, 12)\n",
    "X_test_t = X_test.reshape(X_test.shape[0], 1, 12)"
   ]
  },
  {
   "cell_type": "code",
   "execution_count": 55,
   "metadata": {},
   "outputs": [
    {
     "data": {
      "text/plain": [
       "(228, 1, 12)"
      ]
     },
     "execution_count": 55,
     "metadata": {},
     "output_type": "execute_result"
    }
   ],
   "source": [
    "X_train_t.shape"
   ]
  },
  {
   "cell_type": "code",
   "execution_count": 56,
   "metadata": {
    "collapsed": true
   },
   "outputs": [],
   "source": [
    "K.clear_session()\n",
    "model = Sequential()\n",
    "\n",
    "model.add(LSTM(6, input_shape=(1, 12)))\n",
    "\n",
    "model.add(Dense(1))\n",
    "\n",
    "model.compile(loss='mean_squared_error', optimizer='adam')"
   ]
  },
  {
   "cell_type": "code",
   "execution_count": 57,
   "metadata": {},
   "outputs": [
    {
     "name": "stdout",
     "output_type": "stream",
     "text": [
      "_________________________________________________________________\n",
      "Layer (type)                 Output Shape              Param #   \n",
      "=================================================================\n",
      "lstm_1 (LSTM)                (None, 6)                 456       \n",
      "_________________________________________________________________\n",
      "dense_1 (Dense)              (None, 1)                 7         \n",
      "=================================================================\n",
      "Total params: 463\n",
      "Trainable params: 463\n",
      "Non-trainable params: 0\n",
      "_________________________________________________________________\n"
     ]
    }
   ],
   "source": [
    "model.summary()"
   ]
  },
  {
   "cell_type": "code",
   "execution_count": 58,
   "metadata": {},
   "outputs": [
    {
     "name": "stdout",
     "output_type": "stream",
     "text": [
      "Epoch 1/100\n",
      "228/228 [==============================] - 3s - loss: 0.0818     \n",
      "Epoch 2/100\n",
      "228/228 [==============================] - 3s - loss: 0.0109     \n",
      "Epoch 3/100\n",
      "228/228 [==============================] - 2s - loss: 0.0070     \n",
      "Epoch 4/100\n",
      "228/228 [==============================] - 2s - loss: 0.0060     - ETA: 0s - loss: 0.0\n",
      "Epoch 5/100\n",
      "228/228 [==============================] - 3s - loss: 0.0057     \n",
      "Epoch 6/100\n",
      "228/228 [==============================] - 3s - loss: 0.0051     \n",
      "Epoch 7/100\n",
      "228/228 [==============================] - 3s - loss: 0.0049     \n",
      "Epoch 8/100\n",
      "228/228 [==============================] - 3s - loss: 0.0044     \n",
      "Epoch 9/100\n",
      "228/228 [==============================] - 3s - loss: 0.0042     \n",
      "Epoch 10/100\n",
      "228/228 [==============================] - 3s - loss: 0.0035     \n",
      "Epoch 11/100\n",
      "228/228 [==============================] - 3s - loss: 0.0032     \n",
      "Epoch 12/100\n",
      "228/228 [==============================] - 3s - loss: 0.0030     \n",
      "Epoch 13/100\n",
      "228/228 [==============================] - 3s - loss: 0.0026     - ETA: 0s - los\n",
      "Epoch 14/100\n",
      "228/228 [==============================] - 2s - loss: 0.0023     \n",
      "Epoch 15/100\n",
      "228/228 [==============================] - 3s - loss: 0.0022     \n",
      "Epoch 16/100\n",
      "228/228 [==============================] - 3s - loss: 0.0020     \n",
      "Epoch 17/100\n",
      "228/228 [==============================] - 3s - loss: 0.0018     \n",
      "Epoch 18/100\n",
      "228/228 [==============================] - 2s - loss: 0.0017     \n",
      "Epoch 19/100\n",
      "228/228 [==============================] - 3s - loss: 0.0016     \n",
      "Epoch 20/100\n",
      "228/228 [==============================] - 3s - loss: 0.0015     \n",
      "Epoch 21/100\n",
      "228/228 [==============================] - 3s - loss: 0.0014     \n",
      "Epoch 22/100\n",
      "228/228 [==============================] - 3s - loss: 0.0013     \n",
      "Epoch 23/100\n",
      "228/228 [==============================] - 3s - loss: 0.0014     \n",
      "Epoch 24/100\n",
      "228/228 [==============================] - 3s - loss: 0.0012     \n",
      "Epoch 25/100\n",
      "228/228 [==============================] - 3s - loss: 0.0011     \n",
      "Epoch 26/100\n",
      "228/228 [==============================] - 2s - loss: 0.0013     \n",
      "Epoch 27/100\n",
      "228/228 [==============================] - 2s - loss: 0.0012     \n",
      "Epoch 00026: early stopping\n"
     ]
    },
    {
     "data": {
      "text/plain": [
       "<keras.callbacks.History at 0x7f36959c2908>"
      ]
     },
     "execution_count": 58,
     "metadata": {},
     "output_type": "execute_result"
    }
   ],
   "source": [
    "model.fit(X_train_t, y_train, epochs=100,\n",
    "          batch_size=1, verbose=1, callbacks=[early_stop])"
   ]
  },
  {
   "cell_type": "code",
   "execution_count": 59,
   "metadata": {},
   "outputs": [
    {
     "data": {
      "text/plain": [
       "[<matplotlib.lines.Line2D at 0x7f3695960e80>]"
      ]
     },
     "execution_count": 59,
     "metadata": {},
     "output_type": "execute_result"
    },
    {
     "data": {
      "image/png": "[encoded data removed]",
      "text/plain": [
       "<matplotlib.figure.Figure at 0x7f36959c2b38>"
      ]
     },
     "metadata": {},
     "output_type": "display_data"
    }
   ],
   "source": [
    "y_pred = model.predict(X_test_t)\n",
    "plt.plot(y_test)\n",
    "plt.plot(y_pred)"
   ]
  },
  {
   "cell_type": "markdown",
   "metadata": {},
   "source": [
    "## Exercise 1\n",
    "\n",
    "In the model above we reshaped the input shape to: `(num_samples, 1, 12)`, i.e. we treated a window of 12 months as a vector of 12 coordinates that we simultaneously passed to all the LSTM nodes. An alternative way to look at the problem is to reshape the input to `(num_samples, 12, 1)`. This means we consider each input window as a sequence of 12 values that we will pass in sequence to the LSTM. In principle this looks like a more accurate description of our situation. But does it yield better predictions? Let's check it.\n",
    "\n",
    "- Reshape `X_train` and `X_test` so that they represent a set of univariate sequences\n",
    "- retrain the same LSTM(6) model, you'll have to adapt the `input_shape`\n",
    "- check the performance of this new model, is it better at predicting the test data?"
   ]
  },
  {
   "cell_type": "code",
   "execution_count": 60,
   "metadata": {
    "collapsed": true
   },
   "outputs": [],
   "source": [
    "X_train_t = X_train.reshape(X_train.shape[0], 12, 1)\n",
    "X_test_t = X_test.reshape(X_test.shape[0], 12, 1)"
   ]
  },
  {
   "cell_type": "code",
   "execution_count": 61,
   "metadata": {},
   "outputs": [
    {
     "data": {
      "text/plain": [
       "(228, 12, 1)"
      ]
     },
     "execution_count": 61,
     "metadata": {},
     "output_type": "execute_result"
    }
   ],
   "source": [
    "X_train_t.shape"
   ]
  },
  {
   "cell_type": "code",
   "execution_count": 62,
   "metadata": {
    "collapsed": true
   },
   "outputs": [],
   "source": [
    "from keras.models import Sequential\n",
    "from keras.layers import LSTM, Dense\n",
    "import keras.backend as K\n",
    "from keras.callbacks import EarlyStopping"
   ]
  },
  {
   "cell_type": "code",
   "execution_count": 64,
   "metadata": {
    "collapsed": true
   },
   "outputs": [],
   "source": [
    "K.clear_session()\n",
    "model = Sequential()\n",
    "\n",
    "model.add(LSTM(6, input_shape=(12, 1)))\n",
    "\n",
    "model.add(Dense(1))\n",
    "\n",
    "model.compile(loss='mean_squared_error', optimizer='adam')"
   ]
  },
  {
   "cell_type": "code",
   "execution_count": 65,
   "metadata": {},
   "outputs": [
    {
     "name": "stdout",
     "output_type": "stream",
     "text": [
      "_________________________________________________________________\n",
      "Layer (type)                 Output Shape              Param #   \n",
      "=================================================================\n",
      "lstm_1 (LSTM)                (None, 6)                 192       \n",
      "_________________________________________________________________\n",
      "dense_1 (Dense)              (None, 1)                 7         \n",
      "=================================================================\n",
      "Total params: 199\n",
      "Trainable params: 199\n",
      "Non-trainable params: 0\n",
      "_________________________________________________________________\n"
     ]
    }
   ],
   "source": [
    "model.summary()"
   ]
  },
  {
   "cell_type": "code",
   "execution_count": 66,
   "metadata": {
    "collapsed": true
   },
   "outputs": [],
   "source": [
    "early_stop = EarlyStopping(monitor='loss', patience=1, verbose=1)"
   ]
  },
  {
   "cell_type": "code",
   "execution_count": 67,
   "metadata": {},
   "outputs": [
    {
     "data": {
      "text/plain": [
       "<keras.callbacks.History at 0x7f3694ecb128>"
      ]
     },
     "execution_count": 67,
     "metadata": {},
     "output_type": "execute_result"
    }
   ],
   "source": [
    "model.fit(X_train_t, y_train, epochs=600,\n",
    "          batch_size=32, verbose=0)"
   ]
  },
  {
   "cell_type": "code",
   "execution_count": 68,
   "metadata": {},
   "outputs": [
    {
     "data": {
      "text/plain": [
       "[<matplotlib.lines.Line2D at 0x7f3696d06b38>]"
      ]
     },
     "execution_count": 68,
     "metadata": {},
     "output_type": "execute_result"
    },
    {
     "data": {
      "image/png": "[encoded data removed]",
      "text/plain": [
       "<matplotlib.figure.Figure at 0x7f3694e57828>"
      ]
     },
     "metadata": {},
     "output_type": "display_data"
    }
   ],
   "source": [
    "y_pred = model.predict(X_test_t)\n",
    "plt.plot(y_test)\n",
    "plt.plot(y_pred)"
   ]
  },
  {
   "cell_type": "markdown",
   "metadata": {
    "collapsed": true
   },
   "source": [
    "## Exercise 2\n",
    "\n",
    "RNN models can be applied to images too. In general we can apply them to any data where there's a connnection between nearby units. Let's see how we can easily build a model that works with images.\n",
    "\n",
    "- Load the MNIST data, by now you should be able to do it blindfolded :)\n",
    "- reshape it so that an image looks like a long sequence of pixels\n",
    "- create a recurrent model and train it on the training data\n",
    "- how does it perform compared to a fully connected? How does it compare to Convolutional Neural Networks?\n",
    "\n",
    "(feel free to run this exercise on a cloud GPU if it's too slow on your laptop)"
   ]
  },
  {
   "cell_type": "code",
   "execution_count": 69,
   "metadata": {
    "collapsed": true
   },
   "outputs": [],
   "source": [
    "from keras.datasets import mnist\n",
    "from keras.utils import to_categorical"
   ]
  },
  {
   "cell_type": "code",
   "execution_count": 70,
   "metadata": {},
   "outputs": [
    {
     "name": "stdout",
     "output_type": "stream",
     "text": [
      "Downloading data from https://s3.amazonaws.com/img-datasets/mnist.npz\n"
     ]
    }
   ],
   "source": [
    "(X_train, y_train), (X_test, y_test) = mnist.load_data()\n",
    "X_train = X_train.astype('float32') / 255.0\n",
    "X_test = X_test.astype('float32') / 255.0\n",
    "y_train_cat = to_categorical(y_train, 10)\n",
    "y_test_cat = to_categorical(y_test, 10)"
   ]
  },
  {
   "cell_type": "code",
   "execution_count": 71,
   "metadata": {
    "collapsed": true
   },
   "outputs": [],
   "source": [
    "X_train = X_train.reshape(X_train.shape[0], -1, 1)\n",
    "X_test = X_test.reshape(X_test.shape[0], -1, 1)"
   ]
  },
  {
   "cell_type": "code",
   "execution_count": 72,
   "metadata": {},
   "outputs": [
    {
     "name": "stdout",
     "output_type": "stream",
     "text": [
      "(60000, 784, 1)\n",
      "(10000, 784, 1)\n",
      "(60000, 10)\n",
      "(10000, 10)\n"
     ]
    }
   ],
   "source": [
    "print(X_train.shape)\n",
    "print(X_test.shape)\n",
    "print(y_train_cat.shape)\n",
    "print(y_test_cat.shape)"
   ]
  },
  {
   "cell_type": "code",
   "execution_count": 73,
   "metadata": {
    "scrolled": false
   },
   "outputs": [
    {
     "name": "stdout",
     "output_type": "stream",
     "text": [
      "Train on 42000 samples, validate on 18000 samples\n",
      "Epoch 1/100\n",
      "3628s - loss: 2.0907 - acc: 0.1982 - val_loss: 1.9571 - val_acc: 0.2640\n",
      "Epoch 2/100\n",
      "3555s - loss: 2.0868 - acc: 0.2269 - val_loss: 2.1510 - val_acc: 0.1971\n",
      "Epoch 3/100\n",
      "1791s - loss: 2.0806 - acc: 0.2376 - val_loss: 2.0536 - val_acc: 0.2548\n",
      "Epoch 4/100\n",
      "1811s - loss: 1.8153 - acc: 0.3462 - val_loss: 1.9174 - val_acc: 0.3056\n",
      "Epoch 5/100\n",
      "1836s - loss: 1.9091 - acc: 0.2947 - val_loss: 1.7311 - val_acc: 0.3528\n",
      "Epoch 6/100\n",
      "1860s - loss: 1.6809 - acc: 0.3785 - val_loss: 1.4521 - val_acc: 0.4371\n",
      "Epoch 7/100\n",
      "1824s - loss: 1.7105 - acc: 0.3621 - val_loss: 1.8725 - val_acc: 0.2889\n",
      "Epoch 8/100\n",
      "1798s - loss: 1.7409 - acc: 0.3418 - val_loss: 1.4464 - val_acc: 0.4167\n",
      "Epoch 9/100\n",
      "1795s - loss: 1.9185 - acc: 0.2823 - val_loss: 1.7728 - val_acc: 0.2916\n",
      "Epoch 10/100\n",
      "1815s - loss: 1.7622 - acc: 0.3560 - val_loss: 1.4915 - val_acc: 0.4213\n",
      "Epoch 11/100\n",
      "1929s - loss: 1.4312 - acc: 0.4504 - val_loss: 1.3341 - val_acc: 0.4989\n",
      "Epoch 12/100\n",
      "1832s - loss: 1.3956 - acc: 0.4727 - val_loss: 1.3815 - val_acc: 0.5086\n",
      "Epoch 13/100\n",
      "1776s - loss: 1.4845 - acc: 0.4309 - val_loss: 1.3798 - val_acc: 0.4524\n",
      "Epoch 14/100\n",
      "1775s - loss: 1.9370 - acc: 0.2579 - val_loss: 1.7017 - val_acc: 0.3269\n",
      "Epoch 15/100\n",
      "1777s - loss: 1.5236 - acc: 0.4178 - val_loss: 1.3430 - val_acc: 0.4715\n",
      "Epoch 16/100\n",
      "1817s - loss: 1.4183 - acc: 0.4552 - val_loss: 1.2996 - val_acc: 0.4823\n",
      "Epoch 17/100\n",
      "1872s - loss: 1.3027 - acc: 0.5080 - val_loss: 1.1929 - val_acc: 0.5415\n",
      "Epoch 18/100\n",
      "1797s - loss: 1.3758 - acc: 0.4927 - val_loss: 1.1821 - val_acc: 0.5515\n",
      "Epoch 19/100\n",
      "1777s - loss: 1.2478 - acc: 0.5335 - val_loss: 1.4396 - val_acc: 0.4618\n",
      "Epoch 20/100\n",
      "1760s - loss: 1.1732 - acc: 0.5599 - val_loss: 1.5119 - val_acc: 0.4395\n",
      "Epoch 21/100\n",
      "1773s - loss: 1.3249 - acc: 0.5149 - val_loss: 1.1118 - val_acc: 0.5771\n",
      "Epoch 22/100\n",
      "1757s - loss: 1.1487 - acc: 0.5694 - val_loss: 1.1387 - val_acc: 0.5919\n",
      "Epoch 23/100\n",
      "1770s - loss: 1.0531 - acc: 0.6226 - val_loss: 0.9265 - val_acc: 0.6849\n",
      "Epoch 24/100\n",
      "1764s - loss: 0.9499 - acc: 0.6697 - val_loss: 0.8724 - val_acc: 0.7019\n",
      "Epoch 25/100\n",
      "1759s - loss: 0.9083 - acc: 0.6864 - val_loss: 1.1601 - val_acc: 0.5958\n",
      "Epoch 26/100\n",
      "1767s - loss: 0.8566 - acc: 0.7057 - val_loss: 0.9423 - val_acc: 0.6534\n",
      "Epoch 27/100\n",
      "1764s - loss: 0.8149 - acc: 0.7172 - val_loss: 0.6999 - val_acc: 0.7627\n",
      "Epoch 28/100\n",
      "1777s - loss: 0.7642 - acc: 0.7364 - val_loss: 0.7451 - val_acc: 0.7397\n",
      "Epoch 29/100\n",
      "1775s - loss: 0.7412 - acc: 0.7404 - val_loss: 0.8161 - val_acc: 0.7015\n",
      "Epoch 30/100\n",
      "1760s - loss: 0.7099 - acc: 0.7462 - val_loss: 0.6346 - val_acc: 0.7751\n",
      "Epoch 31/100\n",
      "1761s - loss: 0.6694 - acc: 0.7611 - val_loss: 0.5930 - val_acc: 0.7847\n",
      "Epoch 32/100\n",
      "1816s - loss: 0.6726 - acc: 0.7631 - val_loss: 0.5985 - val_acc: 0.7890\n",
      "Epoch 33/100\n",
      "1867s - loss: 0.6167 - acc: 0.7772 - val_loss: 0.6317 - val_acc: 0.7513\n",
      "Epoch 34/100\n",
      "1876s - loss: 0.6187 - acc: 0.7796 - val_loss: 0.5941 - val_acc: 0.7911\n",
      "Epoch 35/100\n",
      "1981s - loss: 0.5912 - acc: 0.7890 - val_loss: 0.5285 - val_acc: 0.8087\n",
      "Epoch 36/100\n",
      "1873s - loss: 0.5771 - acc: 0.7927 - val_loss: 0.5299 - val_acc: 0.8102\n",
      "Epoch 37/100\n",
      "1870s - loss: 0.5645 - acc: 0.7973 - val_loss: 0.4979 - val_acc: 0.8213\n",
      "Epoch 38/100\n",
      "1855s - loss: 0.5511 - acc: 0.8043 - val_loss: 0.5330 - val_acc: 0.7995\n",
      "Epoch 39/100\n",
      "1871s - loss: 0.5368 - acc: 0.8082 - val_loss: 0.4716 - val_acc: 0.8284\n",
      "Epoch 40/100\n",
      "1869s - loss: 0.5185 - acc: 0.8137 - val_loss: 0.7709 - val_acc: 0.7509\n",
      "Epoch 41/100\n",
      "1859s - loss: 0.5069 - acc: 0.8180 - val_loss: 0.4596 - val_acc: 0.8303\n",
      "Epoch 42/100\n",
      "1860s - loss: 0.4962 - acc: 0.8230 - val_loss: 0.4584 - val_acc: 0.8330\n",
      "Epoch 43/100\n",
      "1869s - loss: 0.4927 - acc: 0.8226 - val_loss: 0.4567 - val_acc: 0.8317\n",
      "Epoch 44/100\n",
      "1861s - loss: 0.4840 - acc: 0.8255 - val_loss: 0.4461 - val_acc: 0.8374\n",
      "Epoch 45/100\n",
      "1871s - loss: 0.4823 - acc: 0.8292 - val_loss: 0.4431 - val_acc: 0.8366\n",
      "Epoch 46/100\n",
      "1876s - loss: 0.4614 - acc: 0.8359 - val_loss: 0.4636 - val_acc: 0.8324\n",
      "Epoch 47/100\n",
      "1877s - loss: 0.4576 - acc: 0.8388 - val_loss: 0.4495 - val_acc: 0.8397\n",
      "Epoch 48/100\n",
      "1886s - loss: 0.4431 - acc: 0.8465 - val_loss: 0.4126 - val_acc: 0.8577\n",
      "Epoch 49/100\n",
      "1886s - loss: 0.4241 - acc: 0.8550 - val_loss: 0.3933 - val_acc: 0.8668\n",
      "Epoch 50/100\n",
      "1872s - loss: 0.4026 - acc: 0.8638 - val_loss: 0.3638 - val_acc: 0.8819\n",
      "Epoch 51/100\n",
      "1882s - loss: 0.3935 - acc: 0.8738 - val_loss: 0.4426 - val_acc: 0.8515\n",
      "Epoch 52/100\n",
      "1873s - loss: 0.3825 - acc: 0.8775 - val_loss: 0.3643 - val_acc: 0.8869\n",
      "Epoch 53/100\n",
      "1881s - loss: 0.3732 - acc: 0.8828 - val_loss: 0.3541 - val_acc: 0.8909\n",
      "Epoch 54/100\n",
      "1886s - loss: 0.3647 - acc: 0.8850 - val_loss: 0.3602 - val_acc: 0.8886\n",
      "Epoch 55/100\n",
      "1872s - loss: 0.3557 - acc: 0.8890 - val_loss: 0.3243 - val_acc: 0.9061\n",
      "Epoch 56/100\n",
      "1873s - loss: 0.3470 - acc: 0.8929 - val_loss: 0.3521 - val_acc: 0.8891\n",
      "Epoch 57/100\n",
      "1866s - loss: 0.3382 - acc: 0.8956 - val_loss: 0.3057 - val_acc: 0.9086\n",
      "Epoch 58/100\n",
      "1992s - loss: 0.3198 - acc: 0.9010 - val_loss: 0.3268 - val_acc: 0.8987\n",
      "Epoch 59/100\n",
      "1870s - loss: 0.3068 - acc: 0.9069 - val_loss: 0.2934 - val_acc: 0.9131\n",
      "Epoch 60/100\n",
      "1873s - loss: 0.3069 - acc: 0.9062 - val_loss: 0.3375 - val_acc: 0.8989\n",
      "Epoch 61/100\n",
      "1878s - loss: 0.2963 - acc: 0.9100 - val_loss: 0.3466 - val_acc: 0.8919\n",
      "Epoch 62/100\n",
      "1872s - loss: 0.2897 - acc: 0.9125 - val_loss: 0.2871 - val_acc: 0.9173\n",
      "Epoch 63/100\n",
      "1882s - loss: 0.2845 - acc: 0.9156 - val_loss: 0.2470 - val_acc: 0.9275\n",
      "Epoch 64/100\n",
      "1896s - loss: 0.2730 - acc: 0.9198 - val_loss: 0.2355 - val_acc: 0.9322\n",
      "Epoch 65/100\n",
      "1821s - loss: 0.2575 - acc: 0.9257 - val_loss: 0.3023 - val_acc: 0.9111\n",
      "Epoch 66/100\n",
      "1772s - loss: 0.2479 - acc: 0.9282 - val_loss: 0.2456 - val_acc: 0.9289\n",
      "Epoch 67/100\n",
      "1790s - loss: 0.2374 - acc: 0.9312 - val_loss: 0.2306 - val_acc: 0.9354\n",
      "Epoch 68/100\n",
      "1763s - loss: 0.2338 - acc: 0.9342 - val_loss: 0.2336 - val_acc: 0.9327\n",
      "Epoch 69/100\n",
      "1765s - loss: 0.2226 - acc: 0.9367 - val_loss: 0.2126 - val_acc: 0.9406\n",
      "Epoch 70/100\n",
      "1769s - loss: 0.2174 - acc: 0.9388 - val_loss: 0.2102 - val_acc: 0.9418\n",
      "Epoch 71/100\n",
      "1771s - loss: 0.2158 - acc: 0.9385 - val_loss: 0.2099 - val_acc: 0.9418\n",
      "Epoch 72/100\n",
      "1846s - loss: 0.2113 - acc: 0.9395 - val_loss: 0.2253 - val_acc: 0.9367\n",
      "Epoch 73/100\n",
      "1833s - loss: 0.2011 - acc: 0.9423 - val_loss: 0.1881 - val_acc: 0.9472\n",
      "Epoch 74/100\n",
      "1863s - loss: 0.1964 - acc: 0.9451 - val_loss: 0.2226 - val_acc: 0.9403\n",
      "Epoch 75/100\n",
      "1772s - loss: 0.1896 - acc: 0.9463 - val_loss: 0.1694 - val_acc: 0.9526\n",
      "Epoch 76/100\n",
      "1770s - loss: 0.1825 - acc: 0.9488 - val_loss: 0.1957 - val_acc: 0.9457\n",
      "Epoch 77/100\n",
      "1764s - loss: 0.1781 - acc: 0.9500 - val_loss: 0.1844 - val_acc: 0.9506\n",
      "Epoch 78/100\n",
      "1777s - loss: 0.1774 - acc: 0.9502 - val_loss: 0.1567 - val_acc: 0.9553\n",
      "Epoch 79/100\n",
      "1820s - loss: 0.1718 - acc: 0.9519 - val_loss: 0.1567 - val_acc: 0.9556\n",
      "Epoch 80/100\n",
      "1861s - loss: 0.1647 - acc: 0.9530 - val_loss: 0.1604 - val_acc: 0.9558\n",
      "Epoch 81/100\n",
      "1877s - loss: 0.1656 - acc: 0.9534 - val_loss: 0.1657 - val_acc: 0.9553\n",
      "Epoch 82/100\n",
      "1981s - loss: 0.1660 - acc: 0.9538 - val_loss: 0.1541 - val_acc: 0.9566\n",
      "Epoch 83/100\n",
      "1866s - loss: 0.1568 - acc: 0.9552 - val_loss: 0.1811 - val_acc: 0.9513\n",
      "Epoch 84/100\n",
      "1873s - loss: 0.1590 - acc: 0.9546 - val_loss: 0.1593 - val_acc: 0.9559\n",
      "Epoch 85/100\n",
      "1857s - loss: 0.1575 - acc: 0.9550 - val_loss: 0.1544 - val_acc: 0.9581\n",
      "Epoch 86/100\n",
      "1857s - loss: 0.1498 - acc: 0.9582 - val_loss: 0.1725 - val_acc: 0.9511\n",
      "Epoch 87/100\n",
      "1863s - loss: 0.1542 - acc: 0.9560 - val_loss: 0.1448 - val_acc: 0.9598\n",
      "Epoch 88/100\n",
      "1853s - loss: 0.1459 - acc: 0.9586 - val_loss: 0.1376 - val_acc: 0.9602\n",
      "Epoch 89/100\n",
      "1860s - loss: 0.1536 - acc: 0.9581 - val_loss: 0.2054 - val_acc: 0.9464\n",
      "Epoch 90/100\n",
      "1869s - loss: 0.1620 - acc: 0.9541 - val_loss: 0.1627 - val_acc: 0.9557\n",
      "Epoch 91/100\n",
      "1866s - loss: 0.1497 - acc: 0.9588 - val_loss: 0.1823 - val_acc: 0.9504\n",
      "Epoch 92/100\n",
      "1812s - loss: 0.1441 - acc: 0.9600 - val_loss: 0.1416 - val_acc: 0.9600\n",
      "Epoch 93/100\n",
      "1767s - loss: 0.1399 - acc: 0.9601 - val_loss: 0.1485 - val_acc: 0.9598\n",
      "Epoch 94/100\n",
      "1796s - loss: 0.1416 - acc: 0.9605 - val_loss: 0.1407 - val_acc: 0.9609\n",
      "Epoch 95/100\n",
      "1869s - loss: 0.1411 - acc: 0.9601 - val_loss: 0.1448 - val_acc: 0.9586\n",
      "Epoch 96/100\n",
      "1864s - loss: 0.1377 - acc: 0.9617 - val_loss: 0.1616 - val_acc: 0.9544\n",
      "Epoch 97/100\n"
     ]
    },
    {
     "name": "stdout",
     "output_type": "stream",
     "text": [
      "1908s - loss: 0.1374 - acc: 0.9615 - val_loss: 0.1471 - val_acc: 0.9592\n",
      "Epoch 98/100\n",
      "1912s - loss: 0.1358 - acc: 0.9617 - val_loss: 0.1537 - val_acc: 0.9561\n",
      "Epoch 99/100\n",
      "1917s - loss: 0.1323 - acc: 0.9628 - val_loss: 0.1414 - val_acc: 0.9605\n",
      "Epoch 100/100\n",
      "1892s - loss: 0.1358 - acc: 0.9614 - val_loss: 0.1416 - val_acc: 0.9629\n",
      "10000/10000 [==============================] - 84s    \n"
     ]
    },
    {
     "data": {
      "text/plain": [
       "[0.12824142972081901, 0.9657]"
      ]
     },
     "execution_count": 73,
     "metadata": {},
     "output_type": "execute_result"
    }
   ],
   "source": [
    "# define the model\n",
    "K.clear_session()\n",
    "model = Sequential()\n",
    "model.add(LSTM(32, input_shape=X_train.shape[1:]))\n",
    "model.add(Dense(10, activation='softmax'))\n",
    "\n",
    "# compile the model\n",
    "model.compile(loss='categorical_crossentropy',\n",
    "              optimizer='rmsprop',\n",
    "              metrics=['accuracy'])\n",
    "\n",
    "model.fit(X_train, y_train_cat,\n",
    "          batch_size=32,\n",
    "          epochs=100,\n",
    "          validation_split=0.3,\n",
    "          shuffle=True,\n",
    "          verbose=2,\n",
    "          )\n",
    "\n",
    "model.evaluate(X_test, y_test_cat)"
   ]
  },
  {
   "cell_type": "code",
   "execution_count": null,
   "metadata": {
    "collapsed": true
   },
   "outputs": [],
   "source": []
  }
 ],
 "metadata": {
  "kernelspec": {
   "display_name": "Python 3",
   "language": "python",
   "name": "python3"
  },
  "language_info": {
   "codemirror_mode": {
    "name": "ipython",
    "version": 3
   },
   "file_extension": ".py",
   "mimetype": "text/x-python",
   "name": "python",
   "nbconvert_exporter": "python",
   "pygments_lexer": "ipython3",
   "version": "3.5.4"
  }
 },
 "nbformat": 4,
 "nbformat_minor": 2
}
